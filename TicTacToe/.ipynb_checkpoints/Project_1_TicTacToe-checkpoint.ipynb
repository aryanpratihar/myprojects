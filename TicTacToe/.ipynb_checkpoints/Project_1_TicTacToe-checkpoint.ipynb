{
 "cells": [
  {
   "cell_type": "markdown",
   "metadata": {},
   "source": [
    "# Project: Tic Tac Toe Game\n"
   ]
  },
  {
   "cell_type": "markdown",
   "metadata": {},
   "source": [
    "## #1 Function to print a board"
   ]
  },
  {
   "cell_type": "code",
   "execution_count": 30,
   "metadata": {},
   "outputs": [],
   "source": [
    "from IPython.display import clear_output\n",
    "\n",
    "\n",
    "def board(brd):\n",
    "    #clear_output()    \n",
    "    print(brd[7]+ '|' +brd[8]+ '|' +brd[9])\n",
    "    print('------')\n",
    "    print(brd[4]+ '|' +brd[5]+ '|' +brd[6])\n",
    "    print('------')\n",
    "    print(brd[1]+ '|' +brd[2]+ '|' +brd[3])\n"
   ]
  },
  {
   "cell_type": "code",
   "execution_count": 31,
   "metadata": {},
   "outputs": [
    {
     "name": "stdout",
     "output_type": "stream",
     "text": [
      " | | \n",
      "------\n",
      " | | \n",
      "------\n",
      " | | \n"
     ]
    }
   ],
   "source": [
    "board(brd)"
   ]
  },
  {
   "cell_type": "markdown",
   "metadata": {},
   "source": [
    "## #2 Function for taking in user choice to play"
   ]
  },
  {
   "cell_type": "code",
   "execution_count": 32,
   "metadata": {},
   "outputs": [],
   "source": [
    "def user_choice():\n",
    "    player_choice=False\n",
    "    while player_choice==False:\n",
    "        x=input('Do you want to play? Y/N ').upper()\n",
    "        if x=='Y':\n",
    "            player_choice=True\n",
    "            user_input()\n",
    "        elif x=='N':\n",
    "            player_choice=True\n",
    "            break\n",
    "        else:\n",
    "            print(\"Can't understand you\")\n",
    "            player_choice=False\n",
    "            \n",
    "            \n",
    "        \n",
    "        \n",
    "    \n",
    "    \n",
    "        "
   ]
  },
  {
   "cell_type": "markdown",
   "metadata": {},
   "source": [
    "## #3 Function for taking in user inputs"
   ]
  },
  {
   "cell_type": "code",
   "execution_count": 33,
   "metadata": {},
   "outputs": [],
   "source": [
    "def user_input():\n",
    "    brd=[' ']*10\n",
    "    player_input=False\n",
    "    game=False\n",
    "    y=input('Player 1 choose O or X').upper()\n",
    "    if y=='O':\n",
    "        z='X'\n",
    "    elif y=='X':\n",
    "        z='O'\n",
    "   \n",
    "    while game==False:\n",
    "       \n",
    "        while player_input==False:\n",
    "            \n",
    "            pos1=False\n",
    "            while pos1==False:\n",
    "                position1=int(input('P1 choose your marker position'))\n",
    "                if brd[position1]=='O' or brd[position1]=='X':\n",
    "                    print('Position already marked. ')\n",
    "                    \n",
    "                elif brd[position1]==' ':\n",
    "                    brd[position1]=y\n",
    "                    pos1=True\n",
    "            board(brd)\n",
    "            player_input=True\n",
    "        \n",
    "        if brd[7]==brd[8]==brd[9]==y or brd[7]==brd[4]==brd[1]==y or brd[7]==brd[5]==brd[3]==y or brd[1]==brd[5]==brd[9]==y or brd[1]==brd[2]==brd[3]==y or brd[3]==brd[6]==brd[9]==y or brd[8]==brd[5]==brd[2]==y or brd[4]==brd[5]==brd[6]==y:\n",
    "            game=True\n",
    "            player_input=False\n",
    "            print('Player 1 WON!!')\n",
    "            \n",
    "        while player_input==True:\n",
    "            \n",
    "            pos2=False\n",
    "            while pos2==False:\n",
    "                position2=int(input('P2 choose your marker position'))\n",
    "                if brd[position2]=='O' or brd[position2]=='X':\n",
    "                    print('Position already marked. ')\n",
    "                    \n",
    "                elif brd[position2]==' ':\n",
    "                    brd[position2]=z\n",
    "                    pos2=True\n",
    "            board(brd)\n",
    "            player_input=False\n",
    "            \n",
    "        if brd[7]==brd[8]==brd[9]==z or brd[7]==brd[4]==brd[1]==z or brd[7]==brd[5]==brd[3]==z or brd[1]==brd[5]==brd[9]==z or brd[1]==brd[2]==brd[3]==z or brd[3]==brd[6]==brd[9]==z or brd[8]==brd[5]==brd[2]==z or brd[4]==brd[5]==brd[6]==z:\n",
    "            game=True\n",
    "            print('Player 2 WON!!')\n",
    "    \n",
    "    \n",
    "    board(brd)\n",
    "    user_choice()\n",
    "            \n",
    "        \n",
    "            \n",
    "    \n",
    "\n",
    "   \n",
    "    \n",
    "    \n",
    "        \n",
    "        \n",
    "            \n",
    "            \n",
    "            \n",
    "    "
   ]
  },
  {
   "cell_type": "markdown",
   "metadata": {},
   "source": [
    "## #4 Function to start the game"
   ]
  },
  {
   "cell_type": "code",
   "execution_count": 34,
   "metadata": {},
   "outputs": [],
   "source": [
    "def start():\n",
    "    user_choice()\n",
    "    "
   ]
  },
  {
   "cell_type": "markdown",
   "metadata": {},
   "source": [
    "**Game Start**"
   ]
  },
  {
   "cell_type": "code",
   "execution_count": 35,
   "metadata": {},
   "outputs": [
    {
     "name": "stdout",
     "output_type": "stream",
     "text": [
      " | | \n",
      "------\n",
      "X|X| \n",
      "------\n",
      "O|O|O\n",
      "Do you want to play? Y/N n\n"
     ]
    }
   ],
   "source": [
    "start()"
   ]
  },
  {
   "cell_type": "code",
   "execution_count": null,
   "metadata": {},
   "outputs": [],
   "source": []
  }
 ],
 "metadata": {
  "kernelspec": {
   "display_name": "Python 3 (ipykernel)",
   "language": "python",
   "name": "python3"
  },
  "language_info": {
   "codemirror_mode": {
    "name": "ipython",
    "version": 3
   },
   "file_extension": ".py",
   "mimetype": "text/x-python",
   "name": "python",
   "nbconvert_exporter": "python",
   "pygments_lexer": "ipython3",
   "version": "3.9.12"
  }
 },
 "nbformat": 4,
 "nbformat_minor": 1
}
